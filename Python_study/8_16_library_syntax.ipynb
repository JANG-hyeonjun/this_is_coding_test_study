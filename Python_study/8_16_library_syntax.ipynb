{
 "cells": [
  {
   "cell_type": "code",
   "execution_count": 1,
   "source": [
    "#표준 라이브러리는 특정한 프로그래밍 언어에서 자주 사용되는 표준 소스 코드를 미리 구현해 놓은 라이브러리를 말한다.\n",
    "# 알아야할 라이브러리는 6개 정도 \n",
    "\"\"\"\n",
    "print(),input(),sorted()\n",
    "heapq: 힙기능을 제공하는 라이브러리이며 우선순위 큐를 구현할 수 있을 것 같다.\n",
    "bisect: 이진 탐색 기능을 제공하는 라이브러리이다. \n",
    "collection: 덱(deque), 카운터(counter) 등 유용한 자료구조를 포함하고 있다.\n",
    "math: 필수적인 수학적 기능을 제공하는 라이브러리이다. 팩토리얼,제곱근,최대 공약수, 삼각함수 관련함수부터\n",
    "파이와 같은 상수를 포함 하고 있다. \n",
    "\"\"\"\n"
   ],
   "outputs": [
    {
     "output_type": "execute_result",
     "data": {
      "text/plain": [
       "'\\nprint(),input(),sorted()\\nheapq: 힙기능을 제공하는 라이브러리이며 우선순위 큐를 구현할 수 있을 것 같다.\\nbisect: 이진 탐색 기능을 제공하는 라이브러리이다. \\ncollection: 덱(deque), 카운터(counter) 등 유용한 자료구조를 포함하고 있다.\\n'"
      ]
     },
     "metadata": {},
     "execution_count": 1
    }
   ],
   "metadata": {}
  },
  {
   "cell_type": "code",
   "execution_count": null,
   "source": [
    "\"\"\"\n",
    "내장함수 sum은 iterable 객체가 입력으로 주어졌을때 모든 원소의 합을 반환한다.\n",
    "객체란 사물 및 대상을 나타내며 이들을 지향하는 언어를 OOP라 한다. \n",
    "document를 찾아보니 iterable은 딕셔너리 튜플 리스트자료형을 말한다. \n",
    "\"\"\""
   ],
   "outputs": [],
   "metadata": {}
  },
  {
   "cell_type": "code",
   "execution_count": 2,
   "source": [
    "result = sum([1,2,3,4,5])\n",
    "print(result)"
   ],
   "outputs": [
    {
     "output_type": "stream",
     "name": "stdout",
     "text": [
      "15\n"
     ]
    }
   ],
   "metadata": {}
  },
  {
   "cell_type": "code",
   "execution_count": 3,
   "source": [
    "result = min([1,2,3,4,5])\n",
    "print(result)\n",
    "result = max([1,2,3,4,5])\n",
    "print(result)"
   ],
   "outputs": [
    {
     "output_type": "stream",
     "name": "stdout",
     "text": [
      "1\n",
      "5\n"
     ]
    }
   ],
   "metadata": {}
  },
  {
   "cell_type": "code",
   "execution_count": 4,
   "source": [
    "#eval 함수는 수학 수식이 문자열 형식으로 들어오면 해당수식을 계산한 결과를 반환한다.\n",
    "result = eval(\"(3+5) * 7\")\n",
    "print(result)"
   ],
   "outputs": [
    {
     "output_type": "stream",
     "name": "stdout",
     "text": [
      "56\n"
     ]
    }
   ],
   "metadata": {}
  },
  {
   "cell_type": "code",
   "execution_count": 5,
   "source": [
    "result = sorted([9,1,8,5,4])\n",
    "print(result)\n",
    "result = sorted([9,1,8,5,4],reverse= True)\n",
    "print(result)\n",
    "\"\"\"\n",
    "sorted는 key속성으로  정렬 기준을 명시 할 수 있다.\n",
    "\n",
    "\"\"\""
   ],
   "outputs": [
    {
     "output_type": "stream",
     "name": "stdout",
     "text": [
      "[1, 4, 5, 8, 9]\n",
      "[9, 8, 5, 4, 1]\n"
     ]
    }
   ],
   "metadata": {}
  },
  {
   "cell_type": "code",
   "execution_count": 6,
   "source": [
    "result = sorted([('홍길동', 35), ('이순신', 75), ('아무개', 50)])\n",
    "print(result)\n",
    "\n"
   ],
   "outputs": [
    {
     "output_type": "stream",
     "name": "stdout",
     "text": [
      "[('아무개', 50), ('이순신', 75), ('홍길동', 35)]\n"
     ]
    }
   ],
   "metadata": {}
  },
  {
   "cell_type": "code",
   "execution_count": 7,
   "source": [
    "result = sorted([('홍길동', 35), ('이순신', 75), ('아무개', 50)], key = lambda x: x[1],reverse=True)\n",
    "print(result)\n"
   ],
   "outputs": [
    {
     "output_type": "stream",
     "name": "stdout",
     "text": [
      "[('이순신', 75), ('아무개', 50), ('홍길동', 35)]\n"
     ]
    }
   ],
   "metadata": {}
  },
  {
   "cell_type": "code",
   "execution_count": 9,
   "source": [
    "\"\"\"\n",
    "리스트 같은 iterable 객체는 기본적으로 sort 함수를 내장하고 있기 때문에 그냥 사용해도 무관\n",
    "\"\"\""
   ],
   "outputs": [
    {
     "output_type": "execute_result",
     "data": {
      "text/plain": [
       "'\\n리스트 같은 iterable 객체는 기본적으로 sort 함수를 내장하고 있기 때문에 그냥 사용해도 무관\\n'"
      ]
     },
     "metadata": {},
     "execution_count": 9
    }
   ],
   "metadata": {}
  },
  {
   "cell_type": "code",
   "execution_count": 10,
   "source": [
    "data = [9,1,8,5,4]\n",
    "data.sort()\n",
    "print(data)"
   ],
   "outputs": [
    {
     "output_type": "stream",
     "name": "stdout",
     "text": [
      "[1, 4, 5, 8, 9]\n"
     ]
    }
   ],
   "metadata": {}
  },
  {
   "cell_type": "code",
   "execution_count": null,
   "source": [
    "\"\"\"\n",
    "itertools는 파이썬에서 반복되는 데이터를 처리하는 기능을 포함하는 라이브러리이다.\n",
    "나는이걸 C/C++로 다구현 했었는데.... 하...\n",
    "사용할수 있는 class로는 permutation,combination등이 있다.\n",
    "여기서 유심히 볼것은 class 라는 것이다. 그러면 과정이 객체 초기화 후 자료형으로 반환해야 한다.\n",
    "\"\"\"\n",
    "\n"
   ],
   "outputs": [],
   "metadata": {}
  },
  {
   "cell_type": "code",
   "execution_count": 11,
   "source": [
    "#순열\n",
    "from itertools import permutations\n",
    "\n",
    "data = [\"A\",\"B\",\"C\"]\n",
    "\n",
    "result = list(permutations(data,3))\n",
    "print(result)"
   ],
   "outputs": [
    {
     "output_type": "stream",
     "name": "stdout",
     "text": [
      "[('A', 'B', 'C'), ('A', 'C', 'B'), ('B', 'A', 'C'), ('B', 'C', 'A'), ('C', 'A', 'B'), ('C', 'B', 'A')]\n"
     ]
    }
   ],
   "metadata": {}
  },
  {
   "cell_type": "code",
   "execution_count": 12,
   "source": [
    "#조합\n",
    "from itertools import combinations\n",
    "\n",
    "data = [\"A\", \"B\", \"C\"]\n",
    "result = list(combinations(data,2))\n",
    "print(result)"
   ],
   "outputs": [
    {
     "output_type": "stream",
     "name": "stdout",
     "text": [
      "[('A', 'B'), ('A', 'C'), ('B', 'C')]\n"
     ]
    }
   ],
   "metadata": {}
  },
  {
   "cell_type": "code",
   "execution_count": 13,
   "source": [
    "#중복 순열\n",
    "from itertools import product\n",
    "\n",
    "data = [\"A\",\"B\",\"C\"]\n",
    "result = list(product(data,repeat=2))\n",
    "\n",
    "print(result)"
   ],
   "outputs": [
    {
     "output_type": "stream",
     "name": "stdout",
     "text": [
      "[('A', 'A'), ('A', 'B'), ('A', 'C'), ('B', 'A'), ('B', 'B'), ('B', 'C'), ('C', 'A'), ('C', 'B'), ('C', 'C')]\n"
     ]
    }
   ],
   "metadata": {}
  },
  {
   "cell_type": "code",
   "execution_count": 14,
   "source": [
    "#중복 조합\n",
    "from itertools import combinations_with_replacement\n",
    "\n",
    "data = [\"A\",\"B\",\"C\"]\n",
    "result = list(combinations_with_replacement(data,2))\n",
    "print(result)"
   ],
   "outputs": [
    {
     "output_type": "stream",
     "name": "stdout",
     "text": [
      "[('A', 'A'), ('A', 'B'), ('A', 'C'), ('B', 'B'), ('B', 'C'), ('C', 'C')]\n"
     ]
    }
   ],
   "metadata": {}
  },
  {
   "cell_type": "code",
   "execution_count": 15,
   "source": [
    "\"\"\"\n",
    "힙에 원소를 삽입할떄는 heappq.heappush()메서드를 이용하고 \n",
    "힙에서 원소를 꺼내고자 할때는 heappq.heappop()method를 이용한다.\n",
    "\"\"\""
   ],
   "outputs": [
    {
     "output_type": "execute_result",
     "data": {
      "text/plain": [
       "'\\n힙에 원소를 삽입할떄는 heappq.heappush()메서드를 이용하고 \\n힙에서 원소를 꺼내고자 할때는 heappq.heappop()method를 이용한다.\\n'"
      ]
     },
     "metadata": {},
     "execution_count": 15
    }
   ],
   "metadata": {}
  },
  {
   "cell_type": "code",
   "execution_count": 18,
   "source": [
    "import heapq\n",
    "    \n",
    "def heapsort(iterable):\n",
    "    h = []\n",
    "    result = []\n",
    "\n",
    "    for value in iterable:\n",
    "        heapq.heappush(h,value)\n",
    "    for i in range(len(h)):\n",
    "        result.append(heapq.heappop(h))\n",
    "    return result\n",
    "\n",
    "result = heapsort([1,3,5,7,9,2,4,6,8,0])\n",
    "print(result)"
   ],
   "outputs": [
    {
     "output_type": "stream",
     "name": "stdout",
     "text": [
      "[0, 1, 2, 3, 4, 5, 6, 7, 8, 9]\n"
     ]
    }
   ],
   "metadata": {}
  },
  {
   "cell_type": "code",
   "execution_count": null,
   "source": [
    "\"\"\"\n",
    "파이썬은 최대 힙을 제공하지 않는다.\n",
    "따라서 heapq 라이브러리를 이용하여 최대힙을 구현해야 할떄는 원소의 부호를 임시로 변경하는 방식을 사용한다.\n",
    "\"\"\"\n"
   ],
   "outputs": [],
   "metadata": {}
  },
  {
   "cell_type": "code",
   "execution_count": 20,
   "source": [
    "import heapq\n",
    "\n",
    "def heapsort(iterable):\n",
    "    h = []\n",
    "    result = []\n",
    "\n",
    "    for value in iterable:\n",
    "        heapq.heappush(h,-value)\n",
    "    for i in range(len(h)):\n",
    "        result.append(-heapq.heappop(h))\n",
    "\n",
    "    return result\n",
    "\n",
    "\n",
    "result = heapsort([1, 3, 5, 7, 9, 2, 4, 6, 8, 0])\n",
    "print(result)\n"
   ],
   "outputs": [
    {
     "output_type": "stream",
     "name": "stdout",
     "text": [
      "[9, 8, 7, 6, 5, 4, 3, 2, 1, 0]\n"
     ]
    }
   ],
   "metadata": {}
  },
  {
   "cell_type": "code",
   "execution_count": 21,
   "source": [
    "# bisect \n",
    "\"\"\"\n",
    "파이썬은 이진탐색을 쉽게 구현술 있도록 bisect 라이브러리를 제공한다.\n",
    "bisect라이브러리는 '정렬된 배열'에서 특정한 원소를 찾아야 할때 매우 효과적으로 사용된다.\n",
    "bisect.left() 와 bisect.right() 함수가 중요하게 사용된다.\n",
    "두함수의 시간 복잡도는 O(log N) 이다. \n",
    "\"\"\""
   ],
   "outputs": [
    {
     "output_type": "execute_result",
     "data": {
      "text/plain": [
       "\"\\n파이썬은 이진탐색을 쉽게 구현술 있도록 bisect 라이브러리를 제공한다.\\nbisect라이브러리는 '정렬된 배열'에서 특정한 원소를 찾아야 할때 매우 효과적으로 사용된다.\\nbisect.left() 와 bisect.right() 함수가 중요하게 사용된다.\\n\""
      ]
     },
     "metadata": {},
     "execution_count": 21
    }
   ],
   "metadata": {}
  },
  {
   "cell_type": "code",
   "execution_count": 22,
   "source": [
    "from bisect import bisect_left,bisect_right\n",
    "\n",
    "a = [1,2,4,4,8]\n",
    "x = 4\n",
    "\n",
    "print(bisect_left(a,4))\n",
    "print(bisect_right(a,4))"
   ],
   "outputs": [
    {
     "output_type": "stream",
     "name": "stdout",
     "text": [
      "2\n",
      "4\n"
     ]
    }
   ],
   "metadata": {}
  },
  {
   "cell_type": "code",
   "execution_count": 23,
   "source": [
    "\"\"\"\n",
    "이는 정렬된 리스트 에서 값이 특정 범위에 속하는 개수를 출력할때 사용하기 유용\n",
    "\"\"\"\n",
    "\n"
   ],
   "outputs": [
    {
     "output_type": "execute_result",
     "data": {
      "text/plain": [
       "'\\n이는 정렬된 리스트 에서 값이 특정 범위에 속하는 개수를 출력할때 사용하기 유용\\n'"
      ]
     },
     "metadata": {},
     "execution_count": 23
    }
   ],
   "metadata": {}
  },
  {
   "cell_type": "code",
   "execution_count": 24,
   "source": [
    "from bisect import bisect_right,bisect_left\n",
    "\n",
    "def count_by_range(a,left_value,right_value):\n",
    "    right_index = bisect_right(a,right_value)\n",
    "    leff_index = bisect_left(a,left_value)\n",
    "    return right_index - leff_index\n",
    "\n",
    "a= [1,2,3,3,3,3,4,4,8,9]\n",
    "\n",
    "print(count_by_range(a,4,4,))\n",
    "\n",
    "print(count_by_range(a,-1,3))"
   ],
   "outputs": [
    {
     "output_type": "stream",
     "name": "stdout",
     "text": [
      "2\n",
      "6\n"
     ]
    }
   ],
   "metadata": {}
  },
  {
   "cell_type": "code",
   "execution_count": 25,
   "source": [
    "\"\"\"\n",
    "Collections 라이브러리는 유용한 자료구조를 제공하는 표준 라이브러리 이다.\n",
    "유용하게 사용될수 있는 클래스는 deque 와 counter가 있다.\n",
    "보통 파이썬은 Queue라이브러리가 있지만 자료구조를 구현하는 라이브러리는 아니라는 점을 기억할것\n",
    "deque는 list에 비해 시간복잡도가 O(1)이지만 인덱싱 슬라이싱 기능은 사용할수 없다.\n",
    "\"\"\""
   ],
   "outputs": [
    {
     "output_type": "execute_result",
     "data": {
      "text/plain": [
       "'\\nCollections 라이브러리는 유용한 자료구조를 제공하는 표준 라이브러리 이다.\\n유용하게 사용될수 있는 클래스는 deque 와 counter가 있다.\\n보통 파이썬은 Queue라이브러리가 있지만 자료구조를 구현하는 라이브러리는 아니라는 점을 기억할것\\ndeque는 list에 비해 시간복잡도가 O(1)이지만 인덱싱 슬라이싱 기능은 사용할수 없다.\\n'"
      ]
     },
     "metadata": {},
     "execution_count": 25
    }
   ],
   "metadata": {}
  },
  {
   "cell_type": "code",
   "execution_count": 26,
   "source": [
    "from collections import deque\n",
    "\n",
    "data = deque([2,3,4])\n",
    "data.appendleft(1)\n",
    "data.append(5)\n",
    "\n",
    "print(data)\n",
    "print(list(data))"
   ],
   "outputs": [
    {
     "output_type": "stream",
     "name": "stdout",
     "text": [
      "deque([1, 2, 3, 4, 5])\n",
      "[1, 2, 3, 4, 5]\n"
     ]
    }
   ],
   "metadata": {}
  },
  {
   "cell_type": "code",
   "execution_count": 27,
   "source": [
    "\"\"\"\n",
    "Counter는 등장횟수를 세는 기능을 제공한다.\n",
    "\"\"\""
   ],
   "outputs": [
    {
     "output_type": "execute_result",
     "data": {
      "text/plain": [
       "'\\nCounter는 등장횟수를 세는 기능을 제공한다.\\n'"
      ]
     },
     "metadata": {},
     "execution_count": 27
    }
   ],
   "metadata": {}
  },
  {
   "cell_type": "code",
   "execution_count": 29,
   "source": [
    "from collections import Counter\n",
    "\n",
    "counter = Counter(['red','blue','red','green','blue','blue'])\n",
    "\n",
    "print(counter['blue'])\n",
    "print(counter['red'])\n",
    "print(counter['green'])\n",
    "print(dict(counter))\n"
   ],
   "outputs": [
    {
     "output_type": "stream",
     "name": "stdout",
     "text": [
      "3\n",
      "2\n",
      "1\n",
      "{'red': 2, 'blue': 3, 'green': 1}\n"
     ]
    }
   ],
   "metadata": {}
  },
  {
   "cell_type": "code",
   "execution_count": 30,
   "source": [
    "\"\"\"\n",
    "Math 라이브러리\n",
    "\"\"\""
   ],
   "outputs": [
    {
     "output_type": "execute_result",
     "data": {
      "text/plain": [
       "'\\nMath 라이브러리\\n'"
      ]
     },
     "metadata": {},
     "execution_count": 30
    }
   ],
   "metadata": {}
  },
  {
   "cell_type": "code",
   "execution_count": 31,
   "source": [
    "import math\n",
    "\n",
    "print(math.factorial(5))"
   ],
   "outputs": [
    {
     "output_type": "stream",
     "name": "stdout",
     "text": [
      "120\n"
     ]
    }
   ],
   "metadata": {}
  },
  {
   "cell_type": "code",
   "execution_count": 34,
   "source": [
    "import math\n",
    "print(math.sqrt(7))"
   ],
   "outputs": [
    {
     "output_type": "stream",
     "name": "stdout",
     "text": [
      "2.6457513110645907\n"
     ]
    }
   ],
   "metadata": {}
  },
  {
   "cell_type": "code",
   "execution_count": 35,
   "source": [
    "import math\n",
    "\n",
    "print(math.gcd(21,14))"
   ],
   "outputs": [
    {
     "output_type": "stream",
     "name": "stdout",
     "text": [
      "7\n"
     ]
    }
   ],
   "metadata": {}
  },
  {
   "cell_type": "code",
   "execution_count": 36,
   "source": [
    "import math\n",
    "\n",
    "print(math.pi)\n",
    "print(math.e)"
   ],
   "outputs": [
    {
     "output_type": "stream",
     "name": "stdout",
     "text": [
      "3.141592653589793\n",
      "2.718281828459045\n"
     ]
    }
   ],
   "metadata": {}
  },
  {
   "cell_type": "code",
   "execution_count": null,
   "source": [],
   "outputs": [],
   "metadata": {}
  }
 ],
 "metadata": {
  "orig_nbformat": 4,
  "language_info": {
   "name": "python",
   "version": "3.8.2",
   "mimetype": "text/x-python",
   "codemirror_mode": {
    "name": "ipython",
    "version": 3
   },
   "pygments_lexer": "ipython3",
   "nbconvert_exporter": "python",
   "file_extension": ".py"
  },
  "kernelspec": {
   "name": "python3",
   "display_name": "Python 3.8.2 64-bit"
  },
  "interpreter": {
   "hash": "31f2aee4e71d21fbe5cf8b01ff0e069b9275f58929596ceb00d14d90e3e16cd6"
  }
 },
 "nbformat": 4,
 "nbformat_minor": 2
}