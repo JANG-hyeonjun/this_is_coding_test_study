{
 "metadata": {
  "language_info": {
   "codemirror_mode": {
    "name": "ipython",
    "version": 3
   },
   "file_extension": ".py",
   "mimetype": "text/x-python",
   "name": "python",
   "nbconvert_exporter": "python",
   "pygments_lexer": "ipython3",
   "version": "3.8.5"
  },
  "orig_nbformat": 4,
  "kernelspec": {
   "name": "python3",
   "display_name": "Python 3.8.5 64-bit ('base': conda)"
  },
  "interpreter": {
   "hash": "0f2dbd3e02f58c2300b1e110f4dab166270c3e760a8e6923f340bb7f0bc440b0"
  }
 },
 "nbformat": 4,
 "nbformat_minor": 2,
 "cells": [
  {
   "cell_type": "code",
   "execution_count": 1,
   "metadata": {},
   "outputs": [
    {
     "output_type": "stream",
     "name": "stdout",
     "text": [
      "프로그램을 종료합니다.\n"
     ]
    }
   ],
   "source": [
    "score = 85\n",
    "\n",
    "if score >= 80:\n",
    "    pass\n",
    "else:\n",
    "    print('성적이 80점 미만 입니다')\n",
    "print('프로그램을 종료합니다.')"
   ]
  },
  {
   "cell_type": "code",
   "execution_count": 5,
   "metadata": {},
   "outputs": [
    {
     "output_type": "stream",
     "name": "stdout",
     "text": [
      "Success\n"
     ]
    }
   ],
   "source": [
    "# 조건문 에서 실행될 소스코드가 한줄인 경우 굳이 줄바꿈을 할 필요 없이 간략하게 할 수 있다.\n",
    "score = 85\n",
    "\n",
    "if score >= 80: result = \"Success\"\n",
    "else: result = \"Fail\"\n",
    "print(result)"
   ]
  },
  {
   "cell_type": "code",
   "execution_count": 8,
   "metadata": {},
   "outputs": [
    {
     "output_type": "stream",
     "name": "stdout",
     "text": [
      "Fail\n"
     ]
    }
   ],
   "source": [
    "#conditional expression\n",
    "score = 75\n",
    "result = \"Success\" if score >= 80 else \"Fail\"\n",
    "print(result)"
   ]
  },
  {
   "cell_type": "code",
   "execution_count": 9,
   "metadata": {},
   "outputs": [
    {
     "output_type": "stream",
     "name": "stdout",
     "text": [
      "[1, 2, 4]\n"
     ]
    }
   ],
   "source": [
    "# 리스트 에서 특정한 원소값을 제거하는 기존 코드 \n",
    "a = [1,2,3,4,5,5,5]\n",
    "remove_set = {3,5}\n",
    "result = []\n",
    "for i in a:\n",
    "    if i not in remove_set:\n",
    "        result.append(i)\n",
    "print(result)\n",
    "\n"
   ]
  },
  {
   "cell_type": "code",
   "execution_count": 11,
   "metadata": {},
   "outputs": [
    {
     "output_type": "stream",
     "name": "stdout",
     "text": [
      "[1, 2, 4]\n"
     ]
    }
   ],
   "source": [
    "# 더가독성 있게 \n",
    "a = [1,2,3,4,5,5,5]\n",
    "remove_set = {3,5}\n",
    "\n",
    "result = [i for i in a if i not in remove_set]\n",
    "print(result)\n"
   ]
  },
  {
   "cell_type": "code",
   "execution_count": 12,
   "metadata": {},
   "outputs": [
    {
     "output_type": "stream",
     "name": "stdout",
     "text": [
      "x 는 0이상 20  미만의 수이다\n"
     ]
    }
   ],
   "source": [
    "# 참고 사항 파이썬은 다른 언어들과 다르게 수학의 부등식을 사용 할 수 있다\n",
    "x = 15\n",
    "if x > 0 and x < 20: \n",
    "    print(\"x 는 0이상 20  미만의 수이다\")"
   ]
  },
  {
   "cell_type": "code",
   "execution_count": 13,
   "metadata": {},
   "outputs": [
    {
     "output_type": "stream",
     "name": "stdout",
     "text": [
      "x 는 0이상 20  미만의 수이다\n"
     ]
    }
   ],
   "source": [
    "x = 15\n",
    "if 0 < x < 20: \n",
    "    print(\"x 는 0이상 20  미만의 수이다\")"
   ]
  },
  {
   "cell_type": "code",
   "execution_count": null,
   "metadata": {},
   "outputs": [],
   "source": []
  }
 ]
}